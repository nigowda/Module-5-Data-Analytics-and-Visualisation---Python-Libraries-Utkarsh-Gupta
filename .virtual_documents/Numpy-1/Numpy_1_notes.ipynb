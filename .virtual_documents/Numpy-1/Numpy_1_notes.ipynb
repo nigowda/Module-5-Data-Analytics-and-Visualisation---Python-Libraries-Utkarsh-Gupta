


























a = [1, 2, 3, "Michael", True]
a




















import numpy as np














a = [1,2,3,4,5]


type(a)





res = [i**2 for i in a]
print(res)








b = np.array(a)
b


type(b)








b**2





l = range(1000000)


%timeit [i**2 for i in l]








l = np.array(range(1000000))


%timeit l**2











arr1 = np.array(range(1000000))
arr1.ndim





arr1.shape





arr2 = np.array([[1, 2, 3], [4, 5, 6], [10, 11, 12]])
print(arr2)





arr2.ndim


arr2.shape














arr2 = np.arange(1, 5)
arr2


arr2_step = np.arange(1, 5, 2)
arr2_step





arr3 = np.arange(1, 5, 0.5)
arr3








arr4 = np.array([1, 2, 3, 4])
arr4


arr4 = np.array([1, 2, 3, 4.0])
arr4








np.array(["Harry Potter", 1, 2, 3])








arr5 = np.array([1, 2, 3, 4])
arr5


arr5 = np.array([1, 2, 3, 4], dtype="float")
arr5





np.array(["Shivank", "Bipin", "Ritwik"], dtype=float)





arr = np.array([10, 20, 30, 40, 50])
arr


arr = arr.astype('float64')
print(arr)








m1 = np.arange(12)
m1


m1[0] # gives first element of array


m1[-1] # negative indexing in numpy array





m1 = np.array([100,200,300,400,500,600])


m1[[2,3,4,1,2,2]]





m1[2,3,4,1,2,2]








m1 = np.array([1, 2, 3, 4, 5, 6, 7, 8, 9, 10])
m1


m1[:5]





m1[-5:-1]





m1[-5: -1: -1]








m1 = np.array([1, 2, 3, 4, 5, 6, 7, 8, 9, 10])
m1 < 6








m1[[True,  True,  True,  True,  True, False, False, False, False, False]]








m1[m1 < 6]





m1[m1%2 == 0]
































!pip install --upgrade gdown
!gdown 1c0ClC8SrPwJq5rrkyMKyPn80nyHcFikK





score = np.loadtxt('survey.txt', dtype ='int')





type(score)





score[:5]





score.shape











detractors = score[score <= 6]


# Number of detractors -

num_detractors = len(detractors)
num_detractors





promoters = score[score >= 9]


# Number of promoters -

num_promoters = len(promoters)
num_promoters


total = len(score)
total


# % of detractors -

percentage_detractors = (num_detractors/total) * 100
percentage_detractors


# % of promoters -

percentage_promoters = (num_promoters/total) * 100
percentage_promoters


nps = percentage_promoters - percentage_detractors
nps


# Rounding off upto 2 decimal places -

np.round(nps, 2)






